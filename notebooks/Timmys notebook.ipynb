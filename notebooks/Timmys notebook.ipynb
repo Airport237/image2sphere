{
 "cells": [
  {
   "cell_type": "markdown",
   "id": "3784370b",
   "metadata": {},
   "source": [
    "<h1>Mask pipeline accuracy test</h1>\n",
    "\n"
   ]
  },
  {
   "cell_type": "markdown",
   "id": "1b368fbb",
   "metadata": {},
   "source": []
  }
 ],
 "metadata": {
  "language_info": {
   "name": "python"
  }
 },
 "nbformat": 4,
 "nbformat_minor": 5
}
